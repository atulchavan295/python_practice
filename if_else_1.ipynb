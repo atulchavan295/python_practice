{
 "cells": [
  {
   "cell_type": "code",
   "execution_count": 3,
   "id": "0d633f3d",
   "metadata": {},
   "outputs": [
    {
     "name": "stdout",
     "output_type": "stream",
     "text": [
      "Enter any Alphabet: A\n",
      "A is vowel\n"
     ]
    }
   ],
   "source": [
    "#Check whether the letter is vowel or not\n",
    "vowel = [\"a\",\"e\",\"i\",\"o\",\"u\",\"A\",\"E\",\"I\",\"O\",\"U\"]\n",
    "vow = input(\"Enter any Alphabet: \")\n",
    "if vow in vowel:\n",
    "    print(vow, \"is vowel\")\n",
    "else:\n",
    "    print(vow, \"is not vowel\")"
   ]
  },
  {
   "cell_type": "code",
   "execution_count": 6,
   "id": "d93f4a9f",
   "metadata": {},
   "outputs": [
    {
     "name": "stdout",
     "output_type": "stream",
     "text": [
      "Enter any Number between 1 to 7: 4\n",
      "You have selected Wednesday\n"
     ]
    }
   ],
   "source": [
    "#Write a program to accept the number from 1 to 7 and display the name of the day like 1 for sunday,2 for monday and so on.\n",
    "days = {1:\"Sunday\", 2:\"Monday\", 3:\"Tuesday\", 4:\"Wednesday\", 5:\"Thursday\", 6:\"Friday\", 7:\"Saturday\"}\n",
    "number = int(input(\"Enter any Number between 1 to 7: \"))\n",
    "if 1<=number<=7:\n",
    "    print(\"You have selected\", days.get(number))\n",
    "else:\n",
    "    print(\"wrong number\")"
   ]
  },
  {
   "cell_type": "code",
   "execution_count": 9,
   "id": "19be3012",
   "metadata": {},
   "outputs": [
    {
     "name": "stdout",
     "output_type": "stream",
     "text": [
      "Enter any Alphabet: Z\n",
      "z is not vowel\n"
     ]
    }
   ],
   "source": [
    "#Check whether the letter is vowel or not\n",
    "vowel = [\"a\",\"i\",\"e\",\"o\",\"u\"]\n",
    "vow = input(\"Enter any Alphabet: \")\n",
    "alphabet = vow.lower()\n",
    "if alphabet in vowel:\n",
    "    print(alphabet, \"is vowel\")\n",
    "else:\n",
    "    print(alphabet, \"is not vowel\")"
   ]
  },
  {
   "cell_type": "code",
   "execution_count": 3,
   "id": "2d838d5d",
   "metadata": {},
   "outputs": [
    {
     "name": "stdout",
     "output_type": "stream",
     "text": [
      "Please select one of the following Cities to see corresponding monument ['Agra', 'Delhi', 'Jaipur']\n",
      "Enter City:Delhi\n",
      "The Delhi has Red Fort\n"
     ]
    }
   ],
   "source": [
    "#Accept any city from the user and display monument of that city.\n",
    "city = {\"Delhi\":\"Red Fort\", \"Agra\":\"Taj Mahal\", \"Jaipur\": \"Jal Mahal\"}\n",
    "#print(\"Please select one of the following Cities to see corresponding monument\", city.keys())\n",
    "print(\"Please select one of the following Cities to see corresponding monument\", sorted(city))\n",
    "ct = input(\"Enter City:\")\n",
    "if ct in city:\n",
    "    print(\"The\", ct , \"has\", city.get(ct))\n",
    "else:\n",
    "    print(\"Mentioned City is not in the List\")"
   ]
  },
  {
   "cell_type": "code",
   "execution_count": 9,
   "id": "d6973e92",
   "metadata": {},
   "outputs": [
    {
     "name": "stdout",
     "output_type": "stream",
     "text": [
      "Please enter age:99\n",
      "the person is eligible for voting\n"
     ]
    }
   ],
   "source": [
    "#Check whether the person is eligible for voting or not.\n",
    "a = int(input(\"Please enter age:\"))\n",
    "if a>=18:\n",
    "    print(\"the person is eligible for voting\")\n",
    "else:\n",
    "    print(\"the person is not eligible for voting\")"
   ]
  },
  {
   "cell_type": "code",
   "execution_count": 12,
   "id": "e951fb77",
   "metadata": {},
   "outputs": [
    {
     "name": "stdout",
     "output_type": "stream",
     "text": [
      "Please enter length:15\n",
      "Please enter breadth:15\n",
      "Figure is square\n"
     ]
    }
   ],
   "source": [
    "#Check whether the figure is square or not by giving length and breadth\n",
    "l = int(input(\"Please enter length:\"))\n",
    "b = int(input(\"Please enter breadth:\"))\n",
    "if l==b:\n",
    "    print(\"Figure is square\")\n",
    "else:\n",
    "    print(\"Figure is not square\")"
   ]
  },
  {
   "cell_type": "code",
   "execution_count": 13,
   "id": "b125b02f",
   "metadata": {},
   "outputs": [
    {
     "name": "stdout",
     "output_type": "stream",
     "text": [
      "Please enter anhy number49\n",
      "Mentioned number 49 is divisible by 7\n"
     ]
    }
   ],
   "source": [
    "no = int(input(\"Please enter any number\"))\n",
    "a = no%7\n",
    "if a==0:\n",
    "    print(\"Mentioned number\",no,\"is divisible by 7\")\n",
    "else:\n",
    "    print(\"Mentioned number\",no,\"is not divisible by 7\")"
   ]
  },
  {
   "cell_type": "code",
   "execution_count": 14,
   "id": "30bad56c",
   "metadata": {},
   "outputs": [
    {
     "name": "stdout",
     "output_type": "stream",
     "text": [
      "Please enter anhy number24\n",
      "Mentioned number 24 is even\n"
     ]
    }
   ],
   "source": [
    "#Check whether the given number is even or odd\n",
    "no = int(input(\"Please enter any number\"))\n",
    "a = no%2\n",
    "if a==0:\n",
    "    print(\"Mentioned number\",no,\"is even\")\n",
    "else:\n",
    "    print(\"Mentioned number\",no,\"is odd\")"
   ]
  },
  {
   "cell_type": "code",
   "execution_count": 23,
   "id": "efe7c505",
   "metadata": {},
   "outputs": [
    {
     "name": "stdout",
     "output_type": "stream",
     "text": [
      "Please enter any number1\n",
      "Mentioned number is positive\n"
     ]
    }
   ],
   "source": [
    "#Check whether the given number is positive, negative or equal to zero(input)\n",
    "no = int(input(\"Please enter any number\"))\n",
    "if no>=0:\n",
    "    if no > 0:\n",
    "        print(\"Mentioned number is positive\")\n",
    "    else:\n",
    "        print(\"Mentioned number is zero\")\n",
    "else:\n",
    "    print(\"Mentioned number is negative\")"
   ]
  },
  {
   "cell_type": "code",
   "execution_count": 26,
   "id": "28438708",
   "metadata": {},
   "outputs": [
    {
     "name": "stdout",
     "output_type": "stream",
     "text": [
      "a is not in python\n"
     ]
    }
   ],
   "source": [
    "#check whether 'a' is in 'Python' string or not\n",
    "str = \"python\"\n",
    "if \"a\" in str:\n",
    "    print(\"a is in python\")\n",
    "else:\n",
    "    print(\"a is not in python\")"
   ]
  },
  {
   "cell_type": "code",
   "execution_count": 27,
   "id": "873e7317",
   "metadata": {},
   "outputs": [
    {
     "name": "stdout",
     "output_type": "stream",
     "text": [
      "Enter 1st number5\n",
      "Enter 2nd number10\n",
      "Enter 3rd number15\n",
      "c is largest\n"
     ]
    }
   ],
   "source": [
    "#Find the largest number among three number with user input\n",
    "a = int(input(\"Enter 1st number\"))\n",
    "b = int(input(\"Enter 2nd number\"))\n",
    "c = int(input(\"Enter 3rd number\"))\n",
    "if a>b and a>c:\n",
    "    print(\"a is largest\")\n",
    "elif b>a and b>c:\n",
    "    print(\"b is largest\")\n",
    "else:\n",
    "    print(\"c is largest\")"
   ]
  },
  {
   "cell_type": "code",
   "execution_count": 31,
   "id": "0006df3e",
   "metadata": {},
   "outputs": [
    {
     "name": "stdout",
     "output_type": "stream",
     "text": [
      "Please enter year1812\n",
      "Mentioned year 1812 is a leap year\n"
     ]
    }
   ],
   "source": [
    "#Check whether year is leap year or not\n",
    "year = int(input(\"Please enter year\"))\n",
    "if year%4==0 and year%100!=0:\n",
    "    print(\"Mentioned year\",year,\"is a leap year\")\n",
    "elif year%400==0 and year%100 == 00:\n",
    "        print(\"Mentioned year\",year,\"is a leap year\")\n",
    "else:\n",
    "    print(\"Mentioned year\",year,\"is not a leap year\")"
   ]
  },
  {
   "cell_type": "code",
   "execution_count": 32,
   "id": "56944b4d",
   "metadata": {},
   "outputs": [
    {
     "name": "stdout",
     "output_type": "stream",
     "text": [
      "Total number of working days:224\n",
      "Total number of days for present:200\n",
      "Student is eligible for EXAM\n"
     ]
    }
   ],
   "source": [
    "#Accept the following from the user and calculate the percentage of class attended:\n",
    "wd = int(input(\"Total number of working days:\"))\n",
    "pd = int(input(\"Total number of days for present:\"))\n",
    "pert = pd/wd*100\n",
    "if pert >= 75:\n",
    "    print(\"Student is eligible for EXAM\")\n",
    "else:\n",
    "    print(\"Student is not eligible for EXAM\")"
   ]
  },
  {
   "cell_type": "code",
   "execution_count": 39,
   "id": "4a2999a9",
   "metadata": {},
   "outputs": [
    {
     "name": "stdout",
     "output_type": "stream",
     "text": [
      "Please select operation -\n",
      "1. Add\n",
      "2. Subtract\n",
      "3. Multiply\n",
      "4. Divide\n",
      "\n",
      "Select operations form 1, 2, 3, 4 :1\n",
      "Enter first number: 5\n",
      "Enter second number: 5\n",
      "5 + 5 = 10\n"
     ]
    }
   ],
   "source": [
    "#Make a simple calculator using input\n",
    "print(\"Please select operation -\\n\" \\\n",
    "        \"1. Add\\n\" \\\n",
    "        \"2. Subtract\\n\" \\\n",
    "        \"3. Multiply\\n\" \\\n",
    "        \"4. Divide\\n\")\n",
    "select = int(input(\"Select operations form 1, 2, 3, 4 :\"))\n",
    "  \n",
    "number_1 = int(input(\"Enter first number: \"))\n",
    "number_2 = int(input(\"Enter second number: \"))\n",
    "  \n",
    "if select == 1:\n",
    "    print(number_1, \"+\", number_2, \"=\", number_1 + number_2)\n",
    "  \n",
    "elif select == 2:\n",
    "    print(number_1, \"-\", number_2, \"=\", number_1 - number_2)\n",
    "  \n",
    "elif select == 3:\n",
    "    print(number_1, \"*\", number_2, \"=\", number_1 * number_2)\n",
    "  \n",
    "elif select == 4:\n",
    "    print(number_1, \"/\", number_2, \"=\", number_1/number_2)\n",
    "else:\n",
    "    print(\"Invalid input\")"
   ]
  },
  {
   "cell_type": "code",
   "execution_count": null,
   "id": "7b652d64",
   "metadata": {},
   "outputs": [],
   "source": []
  }
 ],
 "metadata": {
  "kernelspec": {
   "display_name": "Python 3 (ipykernel)",
   "language": "python",
   "name": "python3"
  },
  "language_info": {
   "codemirror_mode": {
    "name": "ipython",
    "version": 3
   },
   "file_extension": ".py",
   "mimetype": "text/x-python",
   "name": "python",
   "nbconvert_exporter": "python",
   "pygments_lexer": "ipython3",
   "version": "3.9.7"
  }
 },
 "nbformat": 4,
 "nbformat_minor": 5
}
