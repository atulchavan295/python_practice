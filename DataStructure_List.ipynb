{
 "cells": [
  {
   "cell_type": "code",
   "execution_count": 5,
   "id": "65f326d6",
   "metadata": {},
   "outputs": [
    {
     "name": "stdout",
     "output_type": "stream",
     "text": [
      "['Atul Chavan', 31, 'Security', 'Thane']\n",
      "<class 'list'>\n"
     ]
    }
   ],
   "source": [
    "details = [\"Atul Chavan\", 31, \"Security\", \"Thane\"]\n",
    "print(details)\n",
    "print(type(details))"
   ]
  },
  {
   "cell_type": "code",
   "execution_count": 4,
   "id": "72065e02",
   "metadata": {},
   "outputs": [
    {
     "name": "stdout",
     "output_type": "stream",
     "text": [
      "['Atul Chavan', 31, 'Security', 'Thane']\n"
     ]
    },
    {
     "data": {
      "text/plain": [
       "list"
      ]
     },
     "execution_count": 4,
     "metadata": {},
     "output_type": "execute_result"
    }
   ],
   "source": [
    "details1 = list((\"Atul Chavan\", 31, \"Security\", \"Thane\"))\n",
    "print(details1)\n",
    "type(details1)"
   ]
  },
  {
   "cell_type": "code",
   "execution_count": 13,
   "id": "bfbc9641",
   "metadata": {},
   "outputs": [
    {
     "name": "stdout",
     "output_type": "stream",
     "text": [
      "Security\n"
     ]
    }
   ],
   "source": [
    "print(details[2])"
   ]
  },
  {
   "cell_type": "code",
   "execution_count": 11,
   "id": "767c8c3e",
   "metadata": {},
   "outputs": [
    {
     "name": "stdout",
     "output_type": "stream",
     "text": [
      "3\n"
     ]
    }
   ],
   "source": [
    "location = details.index(\"Thane\")\n",
    "print(location)"
   ]
  },
  {
   "cell_type": "code",
   "execution_count": 16,
   "id": "cd871947",
   "metadata": {},
   "outputs": [
    {
     "name": "stdout",
     "output_type": "stream",
     "text": [
      "['Security']\n"
     ]
    }
   ],
   "source": [
    "print(details[2:3:1])"
   ]
  },
  {
   "cell_type": "code",
   "execution_count": 18,
   "id": "7c518911",
   "metadata": {},
   "outputs": [],
   "source": [
    "details[0]= \"Chavan\""
   ]
  },
  {
   "cell_type": "code",
   "execution_count": 19,
   "id": "780174f2",
   "metadata": {},
   "outputs": [
    {
     "name": "stdout",
     "output_type": "stream",
     "text": [
      "['Chavan', 31, 'Security', 'Thane']\n"
     ]
    }
   ],
   "source": [
    "print(details)"
   ]
  },
  {
   "cell_type": "code",
   "execution_count": 20,
   "id": "8a5ad0bf",
   "metadata": {},
   "outputs": [
    {
     "name": "stdout",
     "output_type": "stream",
     "text": [
      "['Atul', 100, 'Cyber', 'Thane']\n"
     ]
    }
   ],
   "source": [
    "details[0] = \"Atul\"\n",
    "details[1] = 100\n",
    "details[2] = \"Cyber\"\n",
    "print(details)"
   ]
  },
  {
   "cell_type": "code",
   "execution_count": 21,
   "id": "851613db",
   "metadata": {},
   "outputs": [
    {
     "name": "stdout",
     "output_type": "stream",
     "text": [
      "['Atul1', 200, 'SIEM', 'Thane']\n"
     ]
    }
   ],
   "source": [
    "details[:3] = [\"Atul1\", 200, \"SIEM\"]\n",
    "print(details)"
   ]
  },
  {
   "cell_type": "code",
   "execution_count": 23,
   "id": "a0cbd4f5",
   "metadata": {},
   "outputs": [
    {
     "name": "stdout",
     "output_type": "stream",
     "text": [
      "['Chavan', 'SIEM', 'Thane']\n"
     ]
    }
   ],
   "source": [
    "details[0:2] = [\"Chavan\"]\n",
    "print(details)"
   ]
  },
  {
   "cell_type": "code",
   "execution_count": 24,
   "id": "2d3c45df",
   "metadata": {},
   "outputs": [
    {
     "name": "stdout",
     "output_type": "stream",
     "text": [
      "['Atul10', 'Chavan', 'SIEM', 'Thane']\n"
     ]
    }
   ],
   "source": [
    "details[0:1] = [\"Atul10\", \"Chavan\"]\n",
    "print(details)"
   ]
  },
  {
   "cell_type": "code",
   "execution_count": 29,
   "id": "7501e69d",
   "metadata": {},
   "outputs": [
    {
     "name": "stdout",
     "output_type": "stream",
     "text": [
      "['Atul10', 'Chavan10', 'Chavan10', 'Chavan', 'SIEM', 'Thane', 'r', 'e', 'a', 'd', 'i', 'n', 'g', 'reading']\n"
     ]
    }
   ],
   "source": [
    "details.insert(1,\"Chavan10\")\n",
    "print(details)"
   ]
  },
  {
   "cell_type": "code",
   "execution_count": 28,
   "id": "c7f984d4",
   "metadata": {},
   "outputs": [
    {
     "name": "stdout",
     "output_type": "stream",
     "text": [
      "['Atul10', 'Chavan10', 'Chavan', 'SIEM', 'Thane', 'r', 'e', 'a', 'd', 'i', 'n', 'g', 'reading']\n"
     ]
    }
   ],
   "source": [
    "details.extend(\"reading\")\n",
    "print(details)"
   ]
  },
  {
   "cell_type": "code",
   "execution_count": 30,
   "id": "4bdeae9f",
   "metadata": {},
   "outputs": [],
   "source": [
    "details = [\"Atul Chavan\", 31, \"Security\", \"Thane\"]"
   ]
  },
  {
   "cell_type": "code",
   "execution_count": 31,
   "id": "1ad7ddaf",
   "metadata": {},
   "outputs": [
    {
     "name": "stdout",
     "output_type": "stream",
     "text": [
      "['Atul Chavan', 31, 'Security', 'Thane']\n"
     ]
    }
   ],
   "source": [
    "print(details)"
   ]
  },
  {
   "cell_type": "code",
   "execution_count": 32,
   "id": "3380adff",
   "metadata": {},
   "outputs": [
    {
     "name": "stdout",
     "output_type": "stream",
     "text": [
      "['Atul Chavan', 31, 'Security', 'Thane', 'reading']\n"
     ]
    }
   ],
   "source": [
    "details.extend([\"reading\"])\n",
    "print(details)"
   ]
  },
  {
   "cell_type": "code",
   "execution_count": 33,
   "id": "b90d9c08",
   "metadata": {},
   "outputs": [
    {
     "name": "stdout",
     "output_type": "stream",
     "text": [
      "['Atul Chavan', 31, 'Security', 'Thane', 'reading', 'running', 'trekking', 'swimming']\n"
     ]
    }
   ],
   "source": [
    "details.extend([\"running\", \"trekking\", \"swimming\"])\n",
    "print(details)"
   ]
  },
  {
   "cell_type": "code",
   "execution_count": 34,
   "id": "1e4eae90",
   "metadata": {},
   "outputs": [
    {
     "name": "stdout",
     "output_type": "stream",
     "text": [
      "['Atul Chavan', 31, 'Security', 'reading', 'running', 'trekking', 'swimming']\n"
     ]
    }
   ],
   "source": [
    "details.remove(\"Thane\")\n",
    "print(details)"
   ]
  },
  {
   "cell_type": "code",
   "execution_count": 35,
   "id": "5ebe9a54",
   "metadata": {},
   "outputs": [
    {
     "name": "stdout",
     "output_type": "stream",
     "text": [
      "['Atul Chavan', 'Security', 'reading', 'running', 'trekking', 'swimming']\n"
     ]
    }
   ],
   "source": [
    "details.remove(31)\n",
    "print(details)"
   ]
  },
  {
   "cell_type": "code",
   "execution_count": 36,
   "id": "08806217",
   "metadata": {},
   "outputs": [
    {
     "name": "stdout",
     "output_type": "stream",
     "text": [
      "['Atul Chavan', 31, 'Security', 'reading', 'running', 'trekking', 'swimming']\n"
     ]
    }
   ],
   "source": [
    "details.insert(1, 31)\n",
    "print(details)"
   ]
  },
  {
   "cell_type": "code",
   "execution_count": 37,
   "id": "ab5905cf",
   "metadata": {},
   "outputs": [
    {
     "name": "stdout",
     "output_type": "stream",
     "text": [
      "['Atul Chavan', 'Security', 'reading', 'running', 'trekking', 'swimming']\n"
     ]
    }
   ],
   "source": [
    "details.pop(1)\n",
    "print(details)"
   ]
  },
  {
   "cell_type": "code",
   "execution_count": 38,
   "id": "be2044bd",
   "metadata": {},
   "outputs": [
    {
     "name": "stdout",
     "output_type": "stream",
     "text": [
      "['Atul Chavan', 'Security', 'reading', 'running', 'trekking']\n"
     ]
    }
   ],
   "source": [
    "details.pop()\n",
    "print(details)"
   ]
  },
  {
   "cell_type": "code",
   "execution_count": 39,
   "id": "12a9b5f6",
   "metadata": {},
   "outputs": [
    {
     "name": "stdout",
     "output_type": "stream",
     "text": [
      "[]\n"
     ]
    }
   ],
   "source": [
    "details.clear()\n",
    "print(details)"
   ]
  },
  {
   "cell_type": "code",
   "execution_count": 40,
   "id": "bd727d76",
   "metadata": {},
   "outputs": [
    {
     "ename": "NameError",
     "evalue": "name 'details' is not defined",
     "output_type": "error",
     "traceback": [
      "\u001b[1;31m---------------------------------------------------------------------------\u001b[0m",
      "\u001b[1;31mNameError\u001b[0m                                 Traceback (most recent call last)",
      "\u001b[1;32m~\\AppData\\Local\\Temp/ipykernel_5992/2805512612.py\u001b[0m in \u001b[0;36m<module>\u001b[1;34m\u001b[0m\n\u001b[0;32m      1\u001b[0m \u001b[1;32mdel\u001b[0m \u001b[0mdetails\u001b[0m\u001b[1;33m\u001b[0m\u001b[1;33m\u001b[0m\u001b[0m\n\u001b[1;32m----> 2\u001b[1;33m \u001b[0mprint\u001b[0m\u001b[1;33m(\u001b[0m\u001b[0mdetails\u001b[0m\u001b[1;33m)\u001b[0m\u001b[1;33m\u001b[0m\u001b[1;33m\u001b[0m\u001b[0m\n\u001b[0m",
      "\u001b[1;31mNameError\u001b[0m: name 'details' is not defined"
     ]
    }
   ],
   "source": [
    "del details\n",
    "print(details)"
   ]
  },
  {
   "cell_type": "code",
   "execution_count": 41,
   "id": "01ca9f11",
   "metadata": {},
   "outputs": [
    {
     "name": "stdout",
     "output_type": "stream",
     "text": [
      "[2, 5, 7, 11, 13, 17, 19]\n",
      "7\n"
     ]
    }
   ],
   "source": [
    "prime = [2,5,7,11,13,17,19]\n",
    "print(prime)\n",
    "print(len(prime))"
   ]
  },
  {
   "cell_type": "code",
   "execution_count": 42,
   "id": "3725c71d",
   "metadata": {},
   "outputs": [
    {
     "name": "stdout",
     "output_type": "stream",
     "text": [
      "[5, 2, 18, 7, 12]\n"
     ]
    }
   ],
   "source": [
    "list = [5,2,18,7,12]\n",
    "print(list)\n"
   ]
  },
  {
   "cell_type": "code",
   "execution_count": 43,
   "id": "b6dcc4ac",
   "metadata": {},
   "outputs": [
    {
     "name": "stdout",
     "output_type": "stream",
     "text": [
      "[2, 5, 7, 12, 18]\n"
     ]
    }
   ],
   "source": [
    "list.sort()\n",
    "print(list)"
   ]
  },
  {
   "cell_type": "code",
   "execution_count": 44,
   "id": "4eab46a8",
   "metadata": {},
   "outputs": [
    {
     "name": "stdout",
     "output_type": "stream",
     "text": [
      "[18, 12, 7, 5, 2]\n"
     ]
    }
   ],
   "source": [
    "list.reverse()\n",
    "print(list)"
   ]
  },
  {
   "cell_type": "code",
   "execution_count": 45,
   "id": "6a866453",
   "metadata": {},
   "outputs": [
    {
     "name": "stdout",
     "output_type": "stream",
     "text": [
      "[5, 2, 18, 7, 12]\n"
     ]
    }
   ],
   "source": [
    "list = [5,2,18,7,12]\n",
    "print(list)"
   ]
  },
  {
   "cell_type": "code",
   "execution_count": 46,
   "id": "2a36bad4",
   "metadata": {},
   "outputs": [
    {
     "name": "stdout",
     "output_type": "stream",
     "text": [
      "[2, 5, 7, 12, 18]\n"
     ]
    }
   ],
   "source": [
    "list.sort()\n",
    "print(list)"
   ]
  },
  {
   "cell_type": "code",
   "execution_count": 50,
   "id": "dfe8d2c2",
   "metadata": {},
   "outputs": [
    {
     "name": "stdout",
     "output_type": "stream",
     "text": [
      "[18, 12, 7, 5, 2]\n"
     ]
    }
   ],
   "source": [
    "print(list[-1::-1])"
   ]
  },
  {
   "cell_type": "code",
   "execution_count": 51,
   "id": "d005e680",
   "metadata": {},
   "outputs": [
    {
     "name": "stdout",
     "output_type": "stream",
     "text": [
      "[2, 5, 7, 11, 13, 17, 19, 2, 5, 7, 12, 18]\n"
     ]
    }
   ],
   "source": [
    "merge = prime + list\n",
    "print(merge)"
   ]
  },
  {
   "cell_type": "code",
   "execution_count": 52,
   "id": "39014915",
   "metadata": {},
   "outputs": [
    {
     "name": "stdout",
     "output_type": "stream",
     "text": [
      "[2, 5, 7, 11, 13, 17, 19, 2, 5, 7, 12, 18]\n"
     ]
    }
   ],
   "source": [
    "new_list = merge\n",
    "print(new_list)"
   ]
  },
  {
   "cell_type": "code",
   "execution_count": 53,
   "id": "0c027856",
   "metadata": {},
   "outputs": [
    {
     "name": "stdout",
     "output_type": "stream",
     "text": [
      "[2, 5, 7, 11, 13, 17, 19, 2, 5, 7, 12, 18, 99]\n",
      "[2, 5, 7, 11, 13, 17, 19, 2, 5, 7, 12, 18, 99]\n"
     ]
    }
   ],
   "source": [
    "merge.append(99)\n",
    "print(merge)\n",
    "print(new_list)"
   ]
  },
  {
   "cell_type": "code",
   "execution_count": 54,
   "id": "92505f84",
   "metadata": {},
   "outputs": [
    {
     "name": "stdout",
     "output_type": "stream",
     "text": [
      "[2, 5, 7, 11, 13, 17, 19, 2, 5, 7, 12, 18, 99]\n"
     ]
    }
   ],
   "source": [
    "new_merge = merge.copy()\n",
    "print(new_merge)"
   ]
  },
  {
   "cell_type": "code",
   "execution_count": 55,
   "id": "5b8b3dd8",
   "metadata": {},
   "outputs": [
    {
     "name": "stdout",
     "output_type": "stream",
     "text": [
      "[2, 5, 7, 11, 13, 17, 19, 2, 5, 7, 12, 18, 99, 1000]\n",
      "[2, 5, 7, 11, 13, 17, 19, 2, 5, 7, 12, 18, 99]\n"
     ]
    }
   ],
   "source": [
    "merge.append(1000)\n",
    "print(merge)\n",
    "print(new_merge)"
   ]
  },
  {
   "cell_type": "code",
   "execution_count": 57,
   "id": "72da8feb",
   "metadata": {},
   "outputs": [
    {
     "name": "stdout",
     "output_type": "stream",
     "text": [
      "[2, 4, 8, 16]\n",
      "[2, 4, 8, 16, 32]\n"
     ]
    }
   ],
   "source": [
    "stack = [2,4,8]\n",
    "stack.append(16)\n",
    "print(stack)\n",
    "stack.append(2**5)\n",
    "print(stack)"
   ]
  },
  {
   "cell_type": "code",
   "execution_count": 58,
   "id": "1fa15021",
   "metadata": {},
   "outputs": [
    {
     "name": "stdout",
     "output_type": "stream",
     "text": [
      "[2, 4, 8, 16]\n"
     ]
    },
    {
     "data": {
      "text/plain": [
       "16"
      ]
     },
     "execution_count": 58,
     "metadata": {},
     "output_type": "execute_result"
    }
   ],
   "source": [
    "stack.pop()\n",
    "print(stack)\n",
    "stack.pop()"
   ]
  },
  {
   "cell_type": "code",
   "execution_count": 59,
   "id": "f8b0dc46",
   "metadata": {},
   "outputs": [
    {
     "name": "stdout",
     "output_type": "stream",
     "text": [
      "[2, 4, 8]\n"
     ]
    }
   ],
   "source": [
    "print(stack)"
   ]
  },
  {
   "cell_type": "code",
   "execution_count": 60,
   "id": "dbd8819c",
   "metadata": {},
   "outputs": [
    {
     "name": "stdout",
     "output_type": "stream",
     "text": [
      "[2, 4, 8]\n",
      "[2, 4, 8, 16]\n",
      "[2, 4, 8, 16, 32]\n"
     ]
    }
   ],
   "source": [
    "queue = [2,4,8]\n",
    "print(queue)\n",
    "queue.append(2**4)\n",
    "print(queue)\n",
    "queue.append(2**5)\n",
    "print(queue)"
   ]
  },
  {
   "cell_type": "code",
   "execution_count": 61,
   "id": "6e724e30",
   "metadata": {},
   "outputs": [
    {
     "name": "stdout",
     "output_type": "stream",
     "text": [
      "[4, 8, 16, 32]\n",
      "[8, 16, 32]\n"
     ]
    }
   ],
   "source": [
    "queue.pop(0)\n",
    "print(queue)\n",
    "queue.pop(0)\n",
    "print(queue)"
   ]
  },
  {
   "cell_type": "code",
   "execution_count": 1,
   "id": "5a059558",
   "metadata": {},
   "outputs": [
    {
     "name": "stdout",
     "output_type": "stream",
     "text": [
      "[('Atul', 'Chavan', 'SIEM', 8), ('Pushkar', 'Karandikar', 'VAPT', 9), ('Rahul', 'Dhali', 'Anti-Virus', 5)]\n"
     ]
    }
   ],
   "source": [
    "Name = [\"Atul\", \"Pushkar\", \"Rahul\"]\n",
    "Surname = [\"Chavan\", \"Karandikar\", \"Dhali\"]\n",
    "domain = [\"SIEM\", \"VAPT\", \"Anti-Virus\"]\n",
    "experiance = [8,9,5]\n",
    "zipped = zip(Name,Surname,domain,experiance)\n",
    "zipped1 = list(zipped)\n",
    "print(zipped1)"
   ]
  },
  {
   "cell_type": "code",
   "execution_count": 71,
   "id": "024c4171",
   "metadata": {},
   "outputs": [
    {
     "name": "stdout",
     "output_type": "stream",
     "text": [
      "('Atul', 'Pushkar', 'Rahul')\n",
      "('Chavan', 'Karandikar', 'Dhali')\n",
      "('SIEM', 'VAPT', 'Anti-Virus')\n",
      "(8, 9, 5)\n"
     ]
    }
   ],
   "source": [
    "namex, surnamex, domainx, experiancex = zip(*zipped1)\n",
    "print(namex)\n",
    "print(surnamex)\n",
    "print(domainx)\n",
    "print(experiancex)"
   ]
  },
  {
   "cell_type": "code",
   "execution_count": null,
   "id": "cfd3c530",
   "metadata": {},
   "outputs": [],
   "source": []
  }
 ],
 "metadata": {
  "kernelspec": {
   "display_name": "Python 3 (ipykernel)",
   "language": "python",
   "name": "python3"
  },
  "language_info": {
   "codemirror_mode": {
    "name": "ipython",
    "version": 3
   },
   "file_extension": ".py",
   "mimetype": "text/x-python",
   "name": "python",
   "nbconvert_exporter": "python",
   "pygments_lexer": "ipython3",
   "version": "3.9.7"
  }
 },
 "nbformat": 4,
 "nbformat_minor": 5
}
