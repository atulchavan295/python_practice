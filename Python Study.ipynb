{
 "cells": [
  {
   "cell_type": "code",
   "execution_count": 24,
   "id": "be1b76bd",
   "metadata": {},
   "outputs": [
    {
     "name": "stdout",
     "output_type": "stream",
     "text": [
      "My name is Atul Chavan. \n",
      " I am 100 years old\n"
     ]
    }
   ],
   "source": []
  },
  {
   "cell_type": "code",
   "execution_count": 38,
   "id": "c8df6ba0",
   "metadata": {},
   "outputs": [
    {
     "name": "stdout",
     "output_type": "stream",
     "text": [
      "As an Information Security Professional,I have a good knowledge in understanding the architecture, design,management and controls that assures the security of business environments and incident handling through log analysis.\n",
      "\n",
      "Identifying the root causes of security incidents and collecting useful data for compliance reporting.I have experience on Security Information and Event Management (SIEM), as a result I am familiar with the SIEM tool HP's ArcSight, RSA Security Analytics and IBM’s QRadar.Integrating various security devices to the SIEM setup for log management and Analysis.\n",
      "\n",
      "As a part of SOC team, I have worked on Symantec AV, Symantec web gateway and Symantec mail gateway.My prime work includes Security Log Monitoring and Analysis from various organizational network devices for Indian and foreign customers.I have a good log reading capability for devices such as IPS/IDS, Anti-virus, different Firewalls like ASA, heckpoint, Operating Systems like Windows, Linux etc.\n"
     ]
    }
   ],
   "source": [
    "a = \"As an Information Security Professional\"\n",
    "b = \"I have a good knowledge in understanding the architecture, design,management and controls that assures the security of business environments and incident handling through log analysis\"\n",
    "c = \"Identifying the root causes of security incidents and collecting useful data for compliance reporting\"\n",
    "d = \"I have experience on Security Information and Event Management (SIEM), as a result I am familiar with the SIEM tool HP's ArcSight, RSA Security Analytics and IBM’s QRadar.\"\n",
    "e = \"Integrating various security devices to the SIEM setup for log management and Analysis\"\n",
    "f = \"As a part of SOC team, I have worked on Symantec AV, Symantec web gateway and Symantec mail gateway\"\n",
    "g = \"My prime work includes Security Log Monitoring and Analysis from various organizational network devices for Indian and foreign customers.\"\n",
    "h = \"I have a good log reading capability for devices such as IPS/IDS, Anti-virus, different Firewalls like ASA, heckpoint, Operating Systems like Windows, Linux etc.\"\n",
    "\n",
    "\n",
    "print (a, end=\",\")\n",
    "print (b+\".\",end=\"\\n\\n\")\n",
    "print (c, end=\".\")\n",
    "print (d, end=\"\")\n",
    "print (e+\".\", end=\"\\n\\n\")\n",
    "print (f, end=\".\")\n",
    "print (g, end=\"\")\n",
    "print (h)"
   ]
  },
  {
   "cell_type": "code",
   "execution_count": null,
   "id": "bbf70a2d",
   "metadata": {},
   "outputs": [],
   "source": []
  },
  {
   "cell_type": "code",
   "execution_count": null,
   "id": "21fc32ba",
   "metadata": {},
   "outputs": [],
   "source": []
  }
 ],
 "metadata": {
  "kernelspec": {
   "display_name": "Python 3 (ipykernel)",
   "language": "python",
   "name": "python3"
  },
  "language_info": {
   "codemirror_mode": {
    "name": "ipython",
    "version": 3
   },
   "file_extension": ".py",
   "mimetype": "text/x-python",
   "name": "python",
   "nbconvert_exporter": "python",
   "pygments_lexer": "ipython3",
   "version": "3.9.7"
  }
 },
 "nbformat": 4,
 "nbformat_minor": 5
}
